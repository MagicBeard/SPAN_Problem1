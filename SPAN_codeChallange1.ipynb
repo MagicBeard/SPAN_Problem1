{
 "cells": [
  {
   "cell_type": "code",
   "execution_count": 1,
   "metadata": {},
   "outputs": [],
   "source": [
    "import os\n",
    "import pandas as pd\n",
    "\n",
    "pwd = os.getcwd()\n",
    "inputFileDir = pwd + \"\\\\\" + \"Text.txt\""
   ]
  },
  {
   "cell_type": "code",
   "execution_count": 2,
   "metadata": {},
   "outputs": [
    {
     "name": "stdout",
     "output_type": "stream",
     "text": [
      "            Line1          Line2\n",
      "0       Example 1          Egg 2\n",
      "1    Awesome OD 3        Lions 3\n",
      "2         Major 2        Lions 0\n",
      "3       Example 3   Awesome OD 1\n",
      "4  Ad exam plus 1      Example 1\n",
      "5         Major 4        Lions 1\n"
     ]
    }
   ],
   "source": [
    "#Opening txt file:\n",
    "textFileOpen = open(inputFileDir, 'r')\n",
    "textFile = textFileOpen.read()\n",
    "textFileOpen.close()\n",
    "\n",
    "df_input=pd.read_csv(inputFileDir, sep=',',header =None,names=['Line1','Line2'])\n",
    "print (df_input)"
   ]
  },
  {
   "cell_type": "code",
   "execution_count": 3,
   "metadata": {},
   "outputs": [
    {
     "name": "stdout",
     "output_type": "stream",
     "text": [
      "    Team name 1  Team 1 score Team name 2  Team 2 score\n",
      "0       Example             1         Egg             2\n",
      "1    Awesome OD             3       Lions             3\n",
      "2         Major             2       Lions             0\n",
      "3       Example             3  Awesome OD             1\n",
      "4  Ad exam plus             1     Example             1\n",
      "5         Major             4       Lions             1\n"
     ]
    }
   ],
   "source": [
    "#Ditermining number of lines:\n",
    "nonempty_lines = [line.strip(\"\\n\") for line in textFile if line != \"\\n\"]\n",
    "line_count = len(textFile) - len(nonempty_lines) +1\n",
    "\n",
    "#Seperating values:\n",
    "df = pd.DataFrame()\n",
    "df['Team name 1'] = df_input['Line1'].str.replace('\\d+', '', regex=True).str.strip()\n",
    "df['Team 1 score'] = df_input['Line1'].str.replace('\\D+', '', regex=True).str.strip()\n",
    "df['Team 1 score'] = pd.to_numeric(df['Team 1 score'])\n",
    "df['Team name 2'] = df_input['Line2'].str.replace('\\d+', '', regex=True).str.strip()\n",
    "df['Team 2 score'] = df_input['Line2'].str.replace('\\D+', '', regex=True).str.strip()\n",
    "df['Team 2 score'] = pd.to_numeric(df['Team 2 score'])\n",
    "\n",
    "print (df)"
   ]
  },
  {
   "cell_type": "code",
   "execution_count": 77,
   "metadata": {},
   "outputs": [
    {
     "name": "stdout",
     "output_type": "stream",
     "text": [
      "      Team Name  Points\n",
      "0           Egg       3\n",
      "1    Awesome OD       1\n",
      "2         Lions       1\n",
      "3         Major       3\n",
      "4       Example       3\n",
      "5  Ad exam plus       1\n",
      "6       Example       1\n",
      "7         Major       3\n"
     ]
    }
   ],
   "source": [
    "df2 = pd.DataFrame(columns = ['Team Name', 'Points'])\n",
    "\n",
    "for i in range(line_count):\n",
    "    if df.at[i, \"Team 1 score\"] > df.at[i, \"Team 2 score\"]:\n",
    "        entry1 = {'Team Name': df.at[i, \"Team name 1\"], 'Points': 3}\n",
    "        df2 = df2.append(entry1, ignore_index = True)\n",
    "        \n",
    "\n",
    "    elif df.at[i, \"Team 1 score\"] < df.at[i, \"Team 2 score\"]:\n",
    "        entry1 = {'Team Name': df.at[i, \"Team name 2\"], 'Points': 3}\n",
    "        df2 = df2.append(entry1, ignore_index = True)\n",
    "\n",
    "    elif df.at[i, \"Team 1 score\"] == df.at[i, \"Team 2 score\"]:\n",
    "        entry1 = {'Team Name': df.at[i, \"Team name 1\"], 'Points': 1}\n",
    "        entry2 = {'Team Name': df.at[i, \"Team name 2\"], 'Points': 1}\n",
    "        df2 = df2.append(entry1, ignore_index = True)\n",
    "        df2 = df2.append(entry2, ignore_index = True)\n",
    "\n",
    "df2['Points'] = pd.to_numeric(df2['Points'])\n",
    "\n",
    "print (df2)"
   ]
  },
  {
   "cell_type": "code",
   "execution_count": 78,
   "metadata": {},
   "outputs": [
    {
     "name": "stdout",
     "output_type": "stream",
     "text": [
      "      Team Name  Points\n",
      "0  Ad exam plus       1\n",
      "1    Awesome OD       1\n",
      "2           Egg       3\n",
      "3       Example       4\n",
      "4         Lions       1\n",
      "5         Major       6\n"
     ]
    }
   ],
   "source": [
    "df3 = pd.pivot_table(df2, index = 'Team Name', values=['Points', 'Team Name'],aggfunc='sum',)\n",
    "df3['Team Name'] = df3.index\n",
    "df3=df3.reset_index(drop=True)\n",
    "df3 = df3[['Team Name', 'Points']]\n",
    "print (df3)"
   ]
  },
  {
   "cell_type": "code",
   "execution_count": 79,
   "metadata": {},
   "outputs": [
    {
     "name": "stdout",
     "output_type": "stream",
     "text": [
      "      Team Name  Points\n",
      "0         Major       6\n",
      "1       Example       4\n",
      "2           Egg       3\n",
      "3  Ad exam plus       1\n",
      "4    Awesome OD       1\n",
      "5         Lions       1\n"
     ]
    }
   ],
   "source": [
    "df3.sort_values(['Points', 'Team Name'],ascending=[False, True], inplace= True)\n",
    "df3=df3.reset_index(drop=True)\n",
    "print (df3)"
   ]
  },
  {
   "cell_type": "code",
   "execution_count": 83,
   "metadata": {},
   "outputs": [
    {
     "name": "stdout",
     "output_type": "stream",
     "text": [
      "6\n"
     ]
    }
   ],
   "source": [
    "line_count2 = len(df3)\n",
    "print (line_count2)"
   ]
  },
  {
   "cell_type": "code",
   "execution_count": 81,
   "metadata": {},
   "outputs": [
    {
     "name": "stdout",
     "output_type": "stream",
     "text": [
      "         Team Name  Points\n",
      "0         1. Major       6\n",
      "1       2. Example       4\n",
      "2           3. Egg       3\n",
      "3  4. Ad exam plus       1\n",
      "4    5. Awesome OD       1\n",
      "5         6. Lions       1\n"
     ]
    }
   ],
   "source": [
    "for i in range (len(df3)):\n",
    "    df3.iloc[i, 0] = str(i+1) + \". \" + str(df3.iloc[i, 0])\n",
    "\n",
    "print (df3)\n"
   ]
  }
 ],
 "metadata": {
  "interpreter": {
   "hash": "60df9f34586d252a8771dac1ac00ff8231072d80dd9c991d60495399c33c950a"
  },
  "kernelspec": {
   "display_name": "Python 3.9.7 64-bit",
   "language": "python",
   "name": "python3"
  },
  "language_info": {
   "codemirror_mode": {
    "name": "ipython",
    "version": 3
   },
   "file_extension": ".py",
   "mimetype": "text/x-python",
   "name": "python",
   "nbconvert_exporter": "python",
   "pygments_lexer": "ipython3",
   "version": "3.9.7"
  },
  "orig_nbformat": 4
 },
 "nbformat": 4,
 "nbformat_minor": 2
}
